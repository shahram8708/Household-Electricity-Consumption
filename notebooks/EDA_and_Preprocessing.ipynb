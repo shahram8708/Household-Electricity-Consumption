{
 "cells": [
  {
   "cell_type": "markdown",
   "id": "cd3276ab",
   "metadata": {},
   "source": [
    "# EDA and Preprocessing\n",
    "\n",
    "This notebook performs exploratory data analysis (EDA) and preprocessing of the household electricity consumption dataset."
   ]
  },
  {
   "cell_type": "code",
   "execution_count": null,
   "id": "e714eb0c",
   "metadata": {},
   "outputs": [],
   "source": [
    "\n",
    "import pandas as pd\n",
    "import matplotlib.pyplot as plt\n",
    "import seaborn as sns\n",
    "\n",
    "data = pd.read_csv('../data/preprocessed_household_power_consumption.csv', index_col='datetime', parse_dates=True)\n",
    "\n",
    "plt.figure(figsize=(14, 7))\n",
    "plt.plot(data['Global_active_power'], label='Global Active Power')\n",
    "plt.xlabel('Datetime')\n",
    "plt.ylabel('Global Active Power (kilowatts)')\n",
    "plt.title('Global Active Power over Time')\n",
    "plt.legend()\n",
    "plt.show()\n",
    "\n",
    "plt.figure(figsize=(20, 15))\n",
    "data.hist(bins=50)\n",
    "plt.tight_layout()\n",
    "plt.show()\n",
    "\n",
    "sns.pairplot(data)\n",
    "plt.show()"
   ]
  }
 ],
 "metadata": {
  "kernelspec": {
   "display_name": "Python 3",
   "language": "python",
   "name": "python3"
  },
  "language_info": {
   "codemirror_mode": {
    "name": "ipython",
    "version": 3
   },
   "file_extension": ".py",
   "mimetype": "text/x-python",
   "name": "python",
   "nbconvert_exporter": "python",
   "pygments_lexer": "ipython3",
   "version": "3.8.8"
  }
 },
 "nbformat": 4,
 "nbformat_minor": 5
}
