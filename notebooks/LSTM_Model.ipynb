{
 "cells": [
  {
   "cell_type": "markdown",
   "metadata": {},
   "source": [
    "# LSTM Model\n",
    "\n",
    "This notebook implements the LSTM model for time series forecasting of household electricity consumption."
   ]
  },
  {
   "cell_type": "code",
   "execution_count": null,
   "metadata": {},
   "outputs": [],
   "source": [
    "\n",
    "import pandas as pd\n",
    "import numpy as np\n",
    "from sklearn.preprocessing import MinMaxScaler\n",
    "from tensorflow.keras.models import Sequential\n",
    "from tensorflow.keras.layers import LSTM, Dense\n",
    "from sklearn.metrics import mean_squared_error\n",
    "import matplotlib.pyplot as plt\n",
    "\n",
    "data = pd.read_csv('../data/preprocessed_household_power_consumption.csv', index_col='datetime', parse_dates=True)\n",
    "\n",
    "scaler = MinMaxScaler()\n",
    "scaled_data = scaler.fit_transform(data[['Global_active_power']])\n",
    "\n",
    "train_data = scaled_data[:-30]\n",
    "test_data = scaled_data[-30:]\n",
    "\n",
    "def create_dataset(X, y, time_steps=1):\n",
    "    Xs, ys = [], []\n",
    "    for i in range(len(X) - time_steps):\n",
    "        v = X[i:(i + time_steps)]\n",
    "        Xs.append(v)\n",
    "        ys.append(y[i + time_steps])\n",
    "    return np.array(Xs), np.array(ys)\n",
    "\n",
    "TIME_STEPS = 10\n",
    "X_train, y_train = create_dataset(train_data, train_data, TIME_STEPS)\n",
    "X_test, y_test = create_dataset(test_data, test_data, TIME_STEPS)\n",
    "\n",
    "model = Sequential()\n",
    "model.add(LSTM(units=50, input_shape=(X_train.shape[1], X_train.shape[2])))\n",
    "model.add(Dense(units=1))\n",
    "model.compile(optimizer='adam', loss='mean_squared_error')\n",
    "\n",
    "history = model.fit(\n",
    "    X_train, y_train,\n",
    "    epochs=50,\n",
    "    batch_size=32,\n",
    "    validation_split=0.1,\n",
    "    shuffle=False\n",
    ")\n",
    "\n",
    "y_pred = model.predict(X_test)\n",
    "y_pred_inverse = scaler.inverse_transform(y_pred)\n",
    "\n",
    "plt.figure(figsize=(14, 7))\n",
    "plt.plot(data.index[-30:], data['Global_active_power'].iloc[-30:], label='True')\n",
    "plt.plot(data.index[-30:], y_pred_inverse, label='LSTM Forecast')\n",
    "plt.xlabel('Datetime')\n",
    "plt.ylabel('Global Active Power')\n",
    "plt.title('LSTM Model Forecast')\n",
    "plt.legend()\n",
    "plt.show()\n",
    "\n",
    "lstm_rmse = np.sqrt(mean_squared_error(data['Global_active_power'].iloc[-30:], y_pred_inverse))\n",
    "print(f'LSTM RMSE: {lstm_rmse}')"
   ]
  }
 ],
 "metadata": {
  "kernelspec": {
   "display_name": "Python 3",
   "language": "python",
   "name": "python3"
  },
  "language_info": {
   "codemirror_mode": {
    "name": "ipython",
    "version": 3
   },
   "file_extension": ".py",
   "mimetype": "text/x-python",
   "name": "python",
   "nbconvert_exporter": "python",
   "pygments_lexer": "ipython3",
   "version": "3.8.8"
  }
 },
 "nbformat": 4,
 "nbformat_minor": 5
}
