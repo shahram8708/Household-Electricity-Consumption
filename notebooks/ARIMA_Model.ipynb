{
 "cells": [
  {
   "cell_type": "markdown",
   "id": "c1d2c60a",
   "metadata": {},
   "source": [
    "# ARIMA Model\n",
    "\n",
    "This notebook implements the ARIMA model for time series forecasting of household electricity consumption."
   ]
  },
  {
   "cell_type": "code",
   "execution_count": null,
   "id": "96c02a4d",
   "metadata": {},
   "outputs": [],
   "source": [
    "\n",
    "import pandas as pd\n",
    "import numpy as np\n",
    "from statsmodels.tsa.arima.model import ARIMA\n",
    "from sklearn.metrics import mean_squared_error\n",
    "import matplotlib.pyplot as plt\n",
    "\n",
    "data = pd.read_csv('../data/preprocessed_household_power_consumption.csv', index_col='datetime', parse_dates=True)\n",
    "\n",
    "train_data = data['Global_active_power'].iloc[:-30]\n",
    "test_data = data['Global_active_power'].iloc[-30:]\n",
    "\n",
    "arima_model = ARIMA(train_data, order=(5, 1, 0))\n",
    "arima_result = arima_model.fit()\n",
    "\n",
    "arima_forecast = arima_result.forecast(steps=30)\n",
    "\n",
    "plt.figure(figsize=(14, 7))\n",
    "plt.plot(train_data.index, train_data, label='Train')\n",
    "plt.plot(test_data.index, test_data, label='Test')\n",
    "plt.plot(test_data.index, arima_forecast, label='ARIMA Forecast')\n",
    "plt.xlabel('Datetime')\n",
    "plt.ylabel('Global Active Power')\n",
    "plt.title('ARIMA Model Forecast')\n",
    "plt.legend()\n",
    "plt.show()\n",
    "\n",
    "arima_rmse = np.sqrt(mean_squared_error(test_data, arima_forecast))\n",
    "print(f'ARIMA RMSE: {arima_rmse}')"
   ]
  }
 ],
 "metadata": {
  "kernelspec": {
   "display_name": "Python 3",
   "language": "python",
   "name": "python3"
  },
  "language_info": {
   "codemirror_mode": {
    "name": "ipython",
    "version": 3
   },
   "file_extension": ".py",
   "mimetype": "text/x-python",
   "name": "python",
   "nbconvert_exporter": "python",
   "pygments_lexer": "ipython3",
   "version": "3.8.8"
  }
 },
 "nbformat": 4,
 "nbformat_minor": 5
}
