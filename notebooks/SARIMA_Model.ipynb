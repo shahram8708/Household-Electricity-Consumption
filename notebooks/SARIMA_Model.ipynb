{
 "cells": [
  {
   "cell_type": "markdown",
   "metadata": {},
   "source": [
    "# SARIMA Model\n",
    "\n",
    "This notebook implements the SARIMA model for time series forecasting of household electricity consumption."
   ]
  },
  {
   "cell_type": "code",
   "execution_count": null,
   "metadata": {},
   "outputs": [],
   "source": [
    "\n",
    "import pandas as pd\n",
    "import numpy as np\n",
    "from statsmodels.tsa.statespace.sarimax import SARIMAX\n",
    "from sklearn.metrics import mean_squared_error\n",
    "import matplotlib.pyplot as plt\n",
    "\n",
    "data = pd.read_csv('../data/preprocessed_household_power_consumption.csv', index_col='datetime', parse_dates=True)\n",
    "\n",
    "train_data = data['Global_active_power'].iloc[:-30]\n",
    "test_data = data['Global_active_power'].iloc[-30:]\n",
    "\n",
    "sarima_model = SARIMAX(train_data, order=(1, 1, 1), seasonal_order=(1, 1, 1, 12))\n",
    "sarima_result = sarima_model.fit()\n",
    "\n",
    "sarima_forecast = sarima_result.forecast(steps=30)\n",
    "\n",
    "plt.figure(figsize=(14, 7))\n",
    "plt.plot(train_data.index, train_data, label='Train')\n",
    "plt.plot(test_data.index, test_data, label='Test')\n",
    "plt.plot(test_data.index, sarima_forecast, label='SARIMA Forecast')\n",
    "plt.xlabel('Datetime')\n",
    "plt.ylabel('Global Active Power')\n",
    "plt.title('SARIMA Model Forecast')\n",
    "plt.legend()\n",
    "plt.show()\n",
    "\n",
    "sarima_rmse = np.sqrt(mean_squared_error(test_data, sarima_forecast))\n",
    "print(f'SARIMA RMSE: {sarima_rmse}')"
   ]
  }
 ],
 "metadata": {
  "kernelspec": {
   "display_name": "Python 3",
   "language": "python",
   "name": "python3"
  },
  "language_info": {
   "codemirror_mode": {
    "name": "ipython",
    "version": 3
   },
   "file_extension": ".py",
   "mimetype": "text/x-python",
   "name": "python",
   "nbconvert_exporter": "python",
   "pygments_lexer": "ipython3",
   "version": "3.12.3"
  }
 },
 "nbformat": 4,
 "nbformat_minor": 5
}
